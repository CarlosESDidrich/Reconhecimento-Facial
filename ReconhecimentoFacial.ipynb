{
 "cells": [
  {
   "cell_type": "code",
   "execution_count": 1,
   "id": "69ef5350",
   "metadata": {},
   "outputs": [],
   "source": [
    "import cv2\n",
    "import mediapipe as mp\n",
    "\n",
    "# Inicializar OpenCV e mediapip\n",
    "webcam = cv2.VideoCapture(0)\n",
    "\n",
    "solucao_reconhecimento_rosto = mp.solutions.face_detection\n",
    "reconhecer_rostos = solucao_reconhecimento_rosto.FaceDetection()\n",
    "desenho = mp.solutions.drawing_utils\n",
    "\n",
    "while True:\n",
    "    verificador, frame = webcam.read()\n",
    "    if not verificador:\n",
    "        break\n",
    "     # reconhece os rostos que tem ali dentro\n",
    "    lista_rostos = reconhecer_rostos.process(frame)\n",
    "        \n",
    "    if lista_rostos.detections:\n",
    "        for rosto in lista_rostos.detections:\n",
    "            # desenha os rostos no frame\n",
    "            desenho.draw_detection(frame,rosto)\n",
    "        \n",
    "    cv2.imshow(\"Reconhecimento facial\",frame)\n",
    "        \n",
    "    # quando apertar ESc sair\n",
    "    if cv2.waitKey(5)== 27: #27 código do teclado para tecla ESC\n",
    "        break         \n",
    "webcam.release()"
   ]
  }
 ],
 "metadata": {
  "kernelspec": {
   "display_name": "Python 3 (ipykernel)",
   "language": "python",
   "name": "python3"
  },
  "language_info": {
   "codemirror_mode": {
    "name": "ipython",
    "version": 3
   },
   "file_extension": ".py",
   "mimetype": "text/x-python",
   "name": "python",
   "nbconvert_exporter": "python",
   "pygments_lexer": "ipython3",
   "version": "3.9.12"
  }
 },
 "nbformat": 4,
 "nbformat_minor": 5
}
